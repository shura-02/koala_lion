{
  "cells": [
    {
      "cell_type": "code",
      "execution_count": 1,
      "metadata": {
        "id": "v2XrYK9Rnjsw"
      },
      "outputs": [],
      "source": [
        "from tensorflow import keras"
      ]
    },
    {
      "cell_type": "code",
      "execution_count": 2,
      "metadata": {
        "id": "L-avnFElnjs0"
      },
      "outputs": [],
      "source": [
        "classifier = keras.Sequential()"
      ]
    },
    {
      "cell_type": "code",
      "execution_count": 3,
      "metadata": {
        "id": "k_yqYvkInjs1"
      },
      "outputs": [],
      "source": [
        "classifier.add(keras.layers.Conv2D(32,(3,3),input_shape=(256,256,3),\n",
        "                                   activation = \"relu\"))\n",
        "classifier.add(keras.layers.Conv2D(32,(3,3), activation = \"relu\"))\n",
        "classifier.add(keras.layers.MaxPool2D(pool_size=(2, 2)))"
      ]
    },
    {
      "cell_type": "code",
      "execution_count": 4,
      "metadata": {
        "id": "sD1OSyzNnjs2"
      },
      "outputs": [],
      "source": [
        "classifier.add(keras.layers.Flatten())\n",
        "\n",
        "classifier.add(keras.layers.Dense(128, activation = \"relu\"))\n",
        "classifier.add(keras.layers.Dense(1, activation = \"sigmoid\"))"
      ]
    },
    {
      "cell_type": "code",
      "execution_count": 5,
      "metadata": {
        "id": "QOTb9ZwLnjs2"
      },
      "outputs": [],
      "source": [
        "classifier.compile(optimizer = \"Adam\", loss = \"binary_crossentropy\", metrics = [\"accuracy\"])"
      ]
    },
    {
      "cell_type": "code",
      "execution_count": 9,
      "metadata": {
        "id": "xst3EGasnjs3",
        "colab": {
          "base_uri": "https://localhost:8080/"
        },
        "outputId": "659b5b46-5226-46b2-98e6-fd6f625babd1"
      },
      "outputs": [
        {
          "output_type": "stream",
          "name": "stdout",
          "text": [
            "Found 144 images belonging to 2 classes.\n"
          ]
        }
      ],
      "source": [
        "from keras.preprocessing.image import ImageDataGenerator\n",
        "\n",
        "train_datagen = ImageDataGenerator(rescale=1/255,\n",
        "                                  shear_range=0.2,\n",
        "                                  zoom_range=0.2,\n",
        "                                  horizontal_flip=True)\n",
        "\n",
        "# in this function give proper path of training data images folder\n",
        "training_set = train_datagen.flow_from_directory(\"/content/drive/MyDrive/Data Sets/koala_lion_Classification/train\",\n",
        "                                                target_size=(256,256),\n",
        "                                                batch_size=5,\n",
        "                                                class_mode='binary')"
      ]
    },
    {
      "cell_type": "code",
      "execution_count": 11,
      "metadata": {
        "id": "B2TJeWy3njs4",
        "colab": {
          "base_uri": "https://localhost:8080/"
        },
        "outputId": "40f7b32e-1137-4e2d-bdd6-c1e1fef0e044"
      },
      "outputs": [
        {
          "output_type": "stream",
          "name": "stdout",
          "text": [
            "Found 37 images belonging to 2 classes.\n"
          ]
        }
      ],
      "source": [
        "test_datagen = ImageDataGenerator(rescale=1/255)\n",
        "\n",
        "# in this function give proper path of Testing data images folder\n",
        "testing_set = test_datagen.flow_from_directory(\"/content/drive/MyDrive/Data Sets/koala_lion_Classification/test\",\n",
        "                                                target_size=(256,256),\n",
        "                                                batch_size=10,\n",
        "                                                class_mode='binary')"
      ]
    },
    {
      "cell_type": "code",
      "source": [
        "from google.colab import drive\n",
        "drive.mount('/content/drive')"
      ],
      "metadata": {
        "colab": {
          "base_uri": "https://localhost:8080/"
        },
        "id": "_AXHsKVpQUgy",
        "outputId": "1306689d-5580-4982-e9c1-f17459fbef4d"
      },
      "execution_count": 7,
      "outputs": [
        {
          "output_type": "stream",
          "name": "stdout",
          "text": [
            "Mounted at /content/drive\n"
          ]
        }
      ]
    },
    {
      "cell_type": "code",
      "execution_count": 12,
      "metadata": {
        "id": "ytGDe_hvnjtJ",
        "colab": {
          "base_uri": "https://localhost:8080/",
          "height": 1000
        },
        "outputId": "d06b54f4-cc72-4329-8ea3-ae15ebdd7a78"
      },
      "outputs": [
        {
          "metadata": {
            "tags": null
          },
          "name": "stdout",
          "output_type": "stream",
          "text": [
            "Epoch 1/50\n",
            "29/29 [==============================] - ETA: 0s - loss: 3.1169 - accuracy: 0.6944"
          ]
        },
        {
          "metadata": {
            "tags": null
          },
          "name": "stderr",
          "output_type": "stream",
          "text": [
            "WARNING:tensorflow:Your input ran out of data; interrupting training. Make sure that your dataset or generator can generate at least `steps_per_epoch * epochs` batches (in this case, 5 batches). You may need to use the repeat() function when building your dataset.\n"
          ]
        },
        {
          "output_type": "stream",
          "name": "stdout",
          "text": [
            "29/29 [==============================] - 124s 4s/step - loss: 3.1169 - accuracy: 0.6944 - val_loss: 0.3047 - val_accuracy: 0.8108\n",
            "Epoch 2/50\n",
            "29/29 [==============================] - 54s 2s/step - loss: 0.3730 - accuracy: 0.8403\n",
            "Epoch 3/50\n",
            "29/29 [==============================] - 55s 2s/step - loss: 0.5143 - accuracy: 0.7014\n",
            "Epoch 4/50\n",
            "29/29 [==============================] - 53s 2s/step - loss: 0.4273 - accuracy: 0.8542\n",
            "Epoch 5/50\n",
            "29/29 [==============================] - 54s 2s/step - loss: 0.4545 - accuracy: 0.8542\n",
            "Epoch 6/50\n",
            "29/29 [==============================] - 53s 2s/step - loss: 0.2883 - accuracy: 0.9028\n",
            "Epoch 7/50\n",
            "29/29 [==============================] - 53s 2s/step - loss: 0.3890 - accuracy: 0.8681\n",
            "Epoch 8/50\n",
            "29/29 [==============================] - 55s 2s/step - loss: 0.3071 - accuracy: 0.8750\n",
            "Epoch 9/50\n",
            "29/29 [==============================] - 55s 2s/step - loss: 0.4174 - accuracy: 0.8750\n",
            "Epoch 10/50\n",
            "29/29 [==============================] - 54s 2s/step - loss: 0.3267 - accuracy: 0.8750\n",
            "Epoch 11/50\n",
            "29/29 [==============================] - 54s 2s/step - loss: 0.2933 - accuracy: 0.9028\n",
            "Epoch 12/50\n",
            "29/29 [==============================] - 53s 2s/step - loss: 0.2206 - accuracy: 0.9306\n",
            "Epoch 13/50\n",
            "29/29 [==============================] - 53s 2s/step - loss: 0.1271 - accuracy: 0.9583\n",
            "Epoch 14/50\n",
            "29/29 [==============================] - 53s 2s/step - loss: 0.1460 - accuracy: 0.9722\n",
            "Epoch 15/50\n",
            "29/29 [==============================] - 54s 2s/step - loss: 0.2796 - accuracy: 0.8958\n",
            "Epoch 16/50\n",
            "29/29 [==============================] - 55s 2s/step - loss: 0.3006 - accuracy: 0.9028\n",
            "Epoch 17/50\n",
            "29/29 [==============================] - 53s 2s/step - loss: 0.2320 - accuracy: 0.9028\n",
            "Epoch 18/50\n",
            "29/29 [==============================] - 53s 2s/step - loss: 0.1485 - accuracy: 0.9583\n",
            "Epoch 19/50\n",
            "29/29 [==============================] - 54s 2s/step - loss: 0.4623 - accuracy: 0.9375\n",
            "Epoch 20/50\n",
            "29/29 [==============================] - 53s 2s/step - loss: 0.6210 - accuracy: 0.8125\n",
            "Epoch 21/50\n",
            "29/29 [==============================] - 54s 2s/step - loss: 0.3420 - accuracy: 0.8542\n",
            "Epoch 22/50\n",
            "29/29 [==============================] - 53s 2s/step - loss: 0.1893 - accuracy: 0.9167\n",
            "Epoch 23/50\n",
            "29/29 [==============================] - 54s 2s/step - loss: 0.2417 - accuracy: 0.9097\n",
            "Epoch 24/50\n",
            "29/29 [==============================] - 54s 2s/step - loss: 0.5959 - accuracy: 0.8333\n",
            "Epoch 25/50\n",
            "29/29 [==============================] - 54s 2s/step - loss: 0.3559 - accuracy: 0.8750\n",
            "Epoch 26/50\n",
            "29/29 [==============================] - 55s 2s/step - loss: 0.2028 - accuracy: 0.9583\n",
            "Epoch 27/50\n",
            "29/29 [==============================] - 53s 2s/step - loss: 0.1628 - accuracy: 0.9583\n",
            "Epoch 28/50\n",
            "29/29 [==============================] - 54s 2s/step - loss: 0.1130 - accuracy: 0.9583\n",
            "Epoch 29/50\n",
            "29/29 [==============================] - 54s 2s/step - loss: 0.3312 - accuracy: 0.9167\n",
            "Epoch 30/50\n",
            "29/29 [==============================] - 54s 2s/step - loss: 0.6964 - accuracy: 0.8889\n",
            "Epoch 31/50\n",
            "29/29 [==============================] - 55s 2s/step - loss: 0.1664 - accuracy: 0.9514\n",
            "Epoch 32/50\n",
            "29/29 [==============================] - 54s 2s/step - loss: 0.5184 - accuracy: 0.8750\n"
          ]
        },
        {
          "output_type": "error",
          "ename": "KeyboardInterrupt",
          "evalue": "ignored",
          "traceback": [
            "\u001b[0;31m---------------------------------------------------------------------------\u001b[0m",
            "\u001b[0;31mKeyboardInterrupt\u001b[0m                         Traceback (most recent call last)",
            "\u001b[0;32m<ipython-input-12-470c0cf551fc>\u001b[0m in \u001b[0;36m<module>\u001b[0;34m\u001b[0m\n\u001b[0;32m----> 1\u001b[0;31m classifier.fit(training_set,\n\u001b[0m\u001b[1;32m      2\u001b[0m                         \u001b[0mepochs\u001b[0m \u001b[0;34m=\u001b[0m \u001b[0;36m50\u001b[0m\u001b[0;34m,\u001b[0m\u001b[0;34m\u001b[0m\u001b[0;34m\u001b[0m\u001b[0m\n\u001b[1;32m      3\u001b[0m                         \u001b[0mvalidation_data\u001b[0m\u001b[0;34m=\u001b[0m\u001b[0mtesting_set\u001b[0m\u001b[0;34m,\u001b[0m\u001b[0;34m\u001b[0m\u001b[0;34m\u001b[0m\u001b[0m\n\u001b[1;32m      4\u001b[0m                         validation_steps=5)\n",
            "\u001b[0;32m/usr/local/lib/python3.8/dist-packages/keras/utils/traceback_utils.py\u001b[0m in \u001b[0;36merror_handler\u001b[0;34m(*args, **kwargs)\u001b[0m\n\u001b[1;32m     62\u001b[0m     \u001b[0mfiltered_tb\u001b[0m \u001b[0;34m=\u001b[0m \u001b[0;32mNone\u001b[0m\u001b[0;34m\u001b[0m\u001b[0;34m\u001b[0m\u001b[0m\n\u001b[1;32m     63\u001b[0m     \u001b[0;32mtry\u001b[0m\u001b[0;34m:\u001b[0m\u001b[0;34m\u001b[0m\u001b[0;34m\u001b[0m\u001b[0m\n\u001b[0;32m---> 64\u001b[0;31m       \u001b[0;32mreturn\u001b[0m \u001b[0mfn\u001b[0m\u001b[0;34m(\u001b[0m\u001b[0;34m*\u001b[0m\u001b[0margs\u001b[0m\u001b[0;34m,\u001b[0m \u001b[0;34m**\u001b[0m\u001b[0mkwargs\u001b[0m\u001b[0;34m)\u001b[0m\u001b[0;34m\u001b[0m\u001b[0;34m\u001b[0m\u001b[0m\n\u001b[0m\u001b[1;32m     65\u001b[0m     \u001b[0;32mexcept\u001b[0m \u001b[0mException\u001b[0m \u001b[0;32mas\u001b[0m \u001b[0me\u001b[0m\u001b[0;34m:\u001b[0m  \u001b[0;31m# pylint: disable=broad-except\u001b[0m\u001b[0;34m\u001b[0m\u001b[0;34m\u001b[0m\u001b[0m\n\u001b[1;32m     66\u001b[0m       \u001b[0mfiltered_tb\u001b[0m \u001b[0;34m=\u001b[0m \u001b[0m_process_traceback_frames\u001b[0m\u001b[0;34m(\u001b[0m\u001b[0me\u001b[0m\u001b[0;34m.\u001b[0m\u001b[0m__traceback__\u001b[0m\u001b[0;34m)\u001b[0m\u001b[0;34m\u001b[0m\u001b[0;34m\u001b[0m\u001b[0m\n",
            "\u001b[0;32m/usr/local/lib/python3.8/dist-packages/keras/engine/training.py\u001b[0m in \u001b[0;36mfit\u001b[0;34m(self, x, y, batch_size, epochs, verbose, callbacks, validation_split, validation_data, shuffle, class_weight, sample_weight, initial_epoch, steps_per_epoch, validation_steps, validation_batch_size, validation_freq, max_queue_size, workers, use_multiprocessing)\u001b[0m\n\u001b[1;32m   1395\u001b[0m       \u001b[0mlogs\u001b[0m \u001b[0;34m=\u001b[0m \u001b[0;32mNone\u001b[0m\u001b[0;34m\u001b[0m\u001b[0;34m\u001b[0m\u001b[0m\n\u001b[1;32m   1396\u001b[0m       \u001b[0;32mfor\u001b[0m \u001b[0mepoch\u001b[0m\u001b[0;34m,\u001b[0m \u001b[0miterator\u001b[0m \u001b[0;32min\u001b[0m \u001b[0mdata_handler\u001b[0m\u001b[0;34m.\u001b[0m\u001b[0menumerate_epochs\u001b[0m\u001b[0;34m(\u001b[0m\u001b[0;34m)\u001b[0m\u001b[0;34m:\u001b[0m\u001b[0;34m\u001b[0m\u001b[0;34m\u001b[0m\u001b[0m\n\u001b[0;32m-> 1397\u001b[0;31m         \u001b[0mself\u001b[0m\u001b[0;34m.\u001b[0m\u001b[0mreset_metrics\u001b[0m\u001b[0;34m(\u001b[0m\u001b[0;34m)\u001b[0m\u001b[0;34m\u001b[0m\u001b[0;34m\u001b[0m\u001b[0m\n\u001b[0m\u001b[1;32m   1398\u001b[0m         \u001b[0mcallbacks\u001b[0m\u001b[0;34m.\u001b[0m\u001b[0mon_epoch_begin\u001b[0m\u001b[0;34m(\u001b[0m\u001b[0mepoch\u001b[0m\u001b[0;34m)\u001b[0m\u001b[0;34m\u001b[0m\u001b[0;34m\u001b[0m\u001b[0m\n\u001b[1;32m   1399\u001b[0m         \u001b[0;32mwith\u001b[0m \u001b[0mdata_handler\u001b[0m\u001b[0;34m.\u001b[0m\u001b[0mcatch_stop_iteration\u001b[0m\u001b[0;34m(\u001b[0m\u001b[0;34m)\u001b[0m\u001b[0;34m:\u001b[0m\u001b[0;34m\u001b[0m\u001b[0;34m\u001b[0m\u001b[0m\n",
            "\u001b[0;31mKeyboardInterrupt\u001b[0m: "
          ]
        }
      ],
      "source": [
        "classifier.fit(training_set,\n",
        "                        epochs = 50,\n",
        "                        validation_data=testing_set,\n",
        "                        validation_steps=5)"
      ]
    },
    {
      "cell_type": "code",
      "execution_count": null,
      "metadata": {
        "id": "6vnibj4QnjtK"
      },
      "outputs": [],
      "source": [
        "import numpy as np\n",
        "from keras.preprocessing import image\n",
        "\n",
        "test_image = image.load_img(\"E:/DL_Projects/koala_lion_Classification/test/koala/koala74.jpg\", target_size=(256,256))\n",
        "test_image = image.img_to_array(test_image)\n",
        "test_image = np.expand_dims(test_image, axis = 0)\n",
        "result = classifier.predict(test_image)\n",
        "#print(result)\n",
        "if result[0][0] == 1:\n",
        "    print(\"Lion King\")\n",
        "else:\n",
        "    print(\"Koala\")"
      ]
    },
    {
      "cell_type": "code",
      "execution_count": null,
      "metadata": {
        "id": "VKXI3Dz2njtL"
      },
      "outputs": [],
      "source": []
    }
  ],
  "metadata": {
    "kernelspec": {
      "display_name": "Python 3",
      "language": "python",
      "name": "python3"
    },
    "language_info": {
      "codemirror_mode": {
        "name": "ipython",
        "version": 3
      },
      "file_extension": ".py",
      "mimetype": "text/x-python",
      "name": "python",
      "nbconvert_exporter": "python",
      "pygments_lexer": "ipython3",
      "version": "3.8.5"
    },
    "colab": {
      "provenance": []
    }
  },
  "nbformat": 4,
  "nbformat_minor": 0
}